{
  "nbformat": 4,
  "nbformat_minor": 0,
  "metadata": {
    "colab": {
      "provenance": [],
      "gpuType": "T4",
      "include_colab_link": true
    },
    "kernelspec": {
      "name": "python3",
      "display_name": "Python 3"
    },
    "language_info": {
      "name": "python"
    },
    "accelerator": "GPU"
  },
  "cells": [
    {
      "cell_type": "markdown",
      "metadata": {
        "id": "view-in-github",
        "colab_type": "text"
      },
      "source": [
        "<a href=\"https://colab.research.google.com/github/FinSafe/MachineLearning/blob/main/Regression_Model_for_Predict_Total_Household_Income.ipynb\" target=\"_parent\"><img src=\"https://colab.research.google.com/assets/colab-badge.svg\" alt=\"Open In Colab\"/></a>"
      ]
    },
    {
      "cell_type": "markdown",
      "source": [
        "# Import Library and Dataset"
      ],
      "metadata": {
        "id": "yZU3hCsEOY7-"
      }
    },
    {
      "cell_type": "code",
      "source": [
        "import pandas as pd\n",
        "import gdown\n",
        "import seaborn as sns\n",
        "import matplotlib.pyplot as plt\n",
        "import numpy as np\n",
        "\n",
        "import tensorflow as tf\n",
        "import pandas as pd\n",
        "from sklearn.model_selection import train_test_split\n",
        "from sklearn.preprocessing import RobustScaler, StandardScaler\n",
        "\n",
        "import tensorflow as tf\n",
        "import pandas as pd\n",
        "from sklearn.model_selection import train_test_split\n",
        "from sklearn.preprocessing import StandardScaler, OneHotEncoder\n",
        "from sklearn.pipeline import Pipeline\n",
        "from sklearn.compose import ColumnTransformer\n",
        "from sklearn.metrics import mean_squared_error\n",
        "import joblib"
      ],
      "metadata": {
        "id": "Gy6-NyiKOcyM"
      },
      "execution_count": 2,
      "outputs": []
    },
    {
      "cell_type": "code",
      "source": [
        "# Helper Function\n",
        "def import_from_gdrive(id_file, file_name, sheet_name=None):\n",
        "    link = 'https://drive.google.com/uc?id=' + id_file\n",
        "    output_file = '/content/' + file_name\n",
        "    gdown.download(link, output_file, quiet=False)\n",
        "\n",
        "    df = pd.read_excel(output_file)\n",
        "    return df"
      ],
      "metadata": {
        "id": "nfRIPLh4Obst"
      },
      "execution_count": 3,
      "outputs": []
    },
    {
      "cell_type": "code",
      "execution_count": 4,
      "metadata": {
        "id": "h09WNl4nbK30",
        "colab": {
          "base_uri": "https://localhost:8080/"
        },
        "outputId": "11d30971-f381-4c6f-f297-92cf36a3ebef"
      },
      "outputs": [
        {
          "output_type": "stream",
          "name": "stderr",
          "text": [
            "Downloading...\n",
            "From: https://drive.google.com/uc?id=1i8urlJHl90Mpq6eVIoOqsfJttx9F1HsA\n",
            "To: /content/final_dataset_converted_rupiah.xlsx\n",
            "100%|██████████| 10.0M/10.0M [00:00<00:00, 61.7MB/s]\n"
          ]
        }
      ],
      "source": [
        "id_file = '1i8urlJHl90Mpq6eVIoOqsfJttx9F1HsA'\n",
        "df = import_from_gdrive(id_file,'final_dataset_converted_rupiah.xlsx')"
      ]
    },
    {
      "cell_type": "code",
      "source": [
        "df = pd.read_excel('final_dataset_converted_rupiah.xlsx')"
      ],
      "metadata": {
        "id": "Re_USE4WgOPj"
      },
      "execution_count": 5,
      "outputs": []
    },
    {
      "cell_type": "code",
      "source": [
        "fix_columns =['Total Household Income',\n",
        "              'Household Head Sex',\n",
        "              'Household Head Age',\n",
        "              'Household Head Marital Status',\n",
        "              # 'Household Head Highest Grade Completed',\n",
        "              'Household Head Highest Grade Completed (Simplified)',\n",
        "              'Total Household Income',\n",
        "              # 'Region',\n",
        "              'Region Category',\n",
        "              'Type of Building/House',\n",
        "              'House Floor Area',\n",
        "              'Number of bedrooms',\n",
        "              'Electricity',\n",
        "              'Tenure Status',\n",
        "              'Type of Household',\n",
        "              'Total Number of Family members',\n",
        "              'Total number of family members employed',\n",
        "              # 'Number of Car, Jeep, Van',\n",
        "              # 'Number of Motorcycle/Tricycle',\n",
        "              # 'Number of Television',\n",
        "              # 'Number of Airconditioner',\n",
        "              # 'Number of Personal Computer',\n",
        "              # 'Number of Cellular phone',\n",
        "              # 'Number of Refrigerator/Freezer',\n",
        "              # 'Number of Washing Machine',\n",
        "              'Number of Kids',\n",
        "              'Number of Vehicles',\n",
        "              'Number of Communication Devices',\n",
        "              'Number of Electronics',\n",
        "              ]\n",
        "\n",
        "X =  df.loc[:, fix_columns]\n",
        "X = X.loc[:,~X.columns.duplicated()]\n",
        "\n",
        "# Mengubah tipe data int menjadi float\n",
        "int_columns = X.select_dtypes(include=['int32', 'int64']).columns\n",
        "X[int_columns] = X[int_columns].astype('float64')\n",
        "\n",
        "y = df['Total Expenses']"
      ],
      "metadata": {
        "id": "POG_mtiDOCFg"
      },
      "execution_count": 6,
      "outputs": []
    },
    {
      "cell_type": "code",
      "source": [
        "df.info()"
      ],
      "metadata": {
        "colab": {
          "base_uri": "https://localhost:8080/"
        },
        "id": "Yg4d3rFx5gff",
        "outputId": "a446dabf-5e8d-4395-e8b7-031c0174f9b9"
      },
      "execution_count": 8,
      "outputs": [
        {
          "output_type": "stream",
          "name": "stdout",
          "text": [
            "<class 'pandas.core.frame.DataFrame'>\n",
            "RangeIndex: 21930 entries, 0 to 21929\n",
            "Data columns (total 69 columns):\n",
            " #   Column                                               Non-Null Count  Dtype  \n",
            "---  ------                                               --------------  -----  \n",
            " 0   Total Household Income                               21930 non-null  float64\n",
            " 1   Region                                               21930 non-null  object \n",
            " 2   Total Food Expenditure                               21930 non-null  float64\n",
            " 3   Main Source of Income                                21930 non-null  object \n",
            " 4   Agricultural Household indicator                     21930 non-null  int64  \n",
            " 5   Bread and Cereals Expenditure                        21930 non-null  float64\n",
            " 6   Total Rice Expenditure                               21930 non-null  float64\n",
            " 7   Meat Expenditure                                     21930 non-null  float64\n",
            " 8   Total Fish and  marine products Expenditure          21930 non-null  float64\n",
            " 9   Fruit Expenditure                                    21930 non-null  float64\n",
            " 10  Vegetables Expenditure                               21930 non-null  float64\n",
            " 11  Restaurant and hotels Expenditure                    21930 non-null  float64\n",
            " 12  Alcoholic Beverages Expenditure                      21930 non-null  float64\n",
            " 13  Tobacco Expenditure                                  21930 non-null  float64\n",
            " 14  Clothing, Footwear and Other Wear Expenditure        21930 non-null  float64\n",
            " 15  Housing and water Expenditure                        21930 non-null  float64\n",
            " 16  Imputed House Rental Value                           21930 non-null  float64\n",
            " 17  Medical Care Expenditure                             21930 non-null  float64\n",
            " 18  Transportation Expenditure                           21930 non-null  float64\n",
            " 19  Communication Expenditure                            21930 non-null  float64\n",
            " 20  Education Expenditure                                21930 non-null  float64\n",
            " 21  Miscellaneous Goods and Services Expenditure         21930 non-null  float64\n",
            " 22  Special Occasions Expenditure                        21930 non-null  float64\n",
            " 23  Crop Farming and Gardening expenses                  21930 non-null  float64\n",
            " 24  Household Head Sex                                   21930 non-null  object \n",
            " 25  Household Head Age                                   21930 non-null  int64  \n",
            " 26  Household Head Marital Status                        21930 non-null  object \n",
            " 27  Household Head Highest Grade Completed               21930 non-null  object \n",
            " 28  Household Head Job or Business Indicator             21930 non-null  object \n",
            " 29  Household Head Occupation                            21930 non-null  object \n",
            " 30  Household Head Class of Worker                       21930 non-null  object \n",
            " 31  Type of Household                                    21930 non-null  object \n",
            " 32  Total Number of Family members                       21930 non-null  int64  \n",
            " 33  Total number of family members employed              21930 non-null  int64  \n",
            " 34  Type of Building/House                               21930 non-null  object \n",
            " 35  Type of Roof                                         21930 non-null  object \n",
            " 36  Type of Walls                                        21930 non-null  object \n",
            " 37  House Floor Area                                     21930 non-null  int64  \n",
            " 38  House Age                                            21930 non-null  int64  \n",
            " 39  Number of bedrooms                                   21930 non-null  int64  \n",
            " 40  Tenure Status                                        21930 non-null  object \n",
            " 41  Toilet Facilities                                    21930 non-null  object \n",
            " 42  Electricity                                          21930 non-null  int64  \n",
            " 43  Main Source of Water Supply                          21930 non-null  object \n",
            " 44  Number of Television                                 21930 non-null  int64  \n",
            " 45  Number of CD/VCD/DVD                                 21930 non-null  int64  \n",
            " 46  Number of Component/Stereo set                       21930 non-null  int64  \n",
            " 47  Number of Refrigerator/Freezer                       21930 non-null  int64  \n",
            " 48  Number of Washing Machine                            21930 non-null  int64  \n",
            " 49  Number of Airconditioner                             21930 non-null  int64  \n",
            " 50  Number of Car, Jeep, Van                             21930 non-null  int64  \n",
            " 51  Number of Landline/wireless telephones               21930 non-null  int64  \n",
            " 52  Number of Cellular phone                             21930 non-null  int64  \n",
            " 53  Number of Personal Computer                          21930 non-null  int64  \n",
            " 54  Number of Stove with Oven/Gas Range                  21930 non-null  int64  \n",
            " 55  Number of Motorized Banca                            21930 non-null  int64  \n",
            " 56  Number of Motorcycle/Tricycle                        21930 non-null  int64  \n",
            " 57  Total Household Income (Monthly)                     21930 non-null  float64\n",
            " 58  Total Expenses                                       21930 non-null  float64\n",
            " 59  Total Needs Expenses                                 21930 non-null  float64\n",
            " 60  Total Lifestyle Expenses                             21930 non-null  float64\n",
            " 61  Total Expenses Category                              21930 non-null  object \n",
            " 62  Household Head Highest Grade Completed (Simplified)  21925 non-null  object \n",
            " 63  Income Category                                      21930 non-null  object \n",
            " 64  Number of Kids                                       21930 non-null  int64  \n",
            " 65  Number of Vehicles                                   21930 non-null  int64  \n",
            " 66  Number of Communication Devices                      21930 non-null  int64  \n",
            " 67  Number of Electronics                                21930 non-null  int64  \n",
            " 68  Region Category                                      21930 non-null  object \n",
            "dtypes: float64(25), int64(25), object(19)\n",
            "memory usage: 11.5+ MB\n"
          ]
        }
      ]
    },
    {
      "cell_type": "code",
      "source": [
        "first_record_list_expenses = y.iloc[0].tolist()\n",
        "first_record_list_expenses"
      ],
      "metadata": {
        "colab": {
          "base_uri": "https://localhost:8080/"
        },
        "id": "UrmtcZaf4nMI",
        "outputId": "a555d9d3-8538-416b-a7b2-c46dfdd4a2e4"
      },
      "execution_count": 9,
      "outputs": [
        {
          "output_type": "execute_result",
          "data": {
            "text/plain": [
              "171312833.062"
            ]
          },
          "metadata": {},
          "execution_count": 9
        }
      ]
    },
    {
      "cell_type": "code",
      "source": [
        "first_record_list = X.iloc[0].tolist()\n",
        "first_record_list"
      ],
      "metadata": {
        "colab": {
          "base_uri": "https://localhost:8080/"
        },
        "id": "QFMQAH-CsEYd",
        "outputId": "3f5babdd-1fdf-4d87-f04c-501cf524add1"
      },
      "execution_count": 47,
      "outputs": [
        {
          "output_type": "execute_result",
          "data": {
            "text/plain": [
              "[182963970.185,\n",
              " 'Female',\n",
              " 49.0,\n",
              " 'Single',\n",
              " 'Degrees/Programs',\n",
              " 'Category 0',\n",
              " 'Single house',\n",
              " 80.0,\n",
              " 3.0,\n",
              " 1.0,\n",
              " 'Own or owner-like possession of house and lot',\n",
              " 'Extended Family',\n",
              " 4.0,\n",
              " 1.0,\n",
              " 1.0,\n",
              " 1.0,\n",
              " 2.0,\n",
              " 3.0]"
            ]
          },
          "metadata": {},
          "execution_count": 47
        }
      ]
    },
    {
      "cell_type": "code",
      "source": [
        "X.info()"
      ],
      "metadata": {
        "colab": {
          "base_uri": "https://localhost:8080/"
        },
        "id": "HCE1rpTVkj3k",
        "outputId": "9cbe2b73-6841-4373-a83a-3f348f3a9e36"
      },
      "execution_count": 48,
      "outputs": [
        {
          "output_type": "stream",
          "name": "stdout",
          "text": [
            "<class 'pandas.core.frame.DataFrame'>\n",
            "RangeIndex: 21930 entries, 0 to 21929\n",
            "Data columns (total 18 columns):\n",
            " #   Column                                               Non-Null Count  Dtype  \n",
            "---  ------                                               --------------  -----  \n",
            " 0   Total Household Income                               21930 non-null  float64\n",
            " 1   Household Head Sex                                   21930 non-null  object \n",
            " 2   Household Head Age                                   21930 non-null  float64\n",
            " 3   Household Head Marital Status                        21930 non-null  object \n",
            " 4   Household Head Highest Grade Completed (Simplified)  21925 non-null  object \n",
            " 5   Region Category                                      21930 non-null  object \n",
            " 6   Type of Building/House                               21930 non-null  object \n",
            " 7   House Floor Area                                     21930 non-null  float64\n",
            " 8   Number of bedrooms                                   21930 non-null  float64\n",
            " 9   Electricity                                          21930 non-null  float64\n",
            " 10  Tenure Status                                        21930 non-null  object \n",
            " 11  Type of Household                                    21930 non-null  object \n",
            " 12  Total Number of Family members                       21930 non-null  float64\n",
            " 13  Total number of family members employed              21930 non-null  float64\n",
            " 14  Number of Kids                                       21930 non-null  float64\n",
            " 15  Number of Vehicles                                   21930 non-null  float64\n",
            " 16  Number of Communication Devices                      21930 non-null  float64\n",
            " 17  Number of Electronics                                21930 non-null  float64\n",
            "dtypes: float64(11), object(7)\n",
            "memory usage: 3.0+ MB\n"
          ]
        }
      ]
    },
    {
      "cell_type": "code",
      "source": [
        "numeric_features = X.select_dtypes(include=['int64', 'float64']).columns.tolist()\n",
        "categorical_features = X.select_dtypes(include=['object', 'category']).columns.tolist()\n",
        "\n",
        "# Pipeline preprocessing untuk fitur numerik\n",
        "numeric_transformer = Pipeline(steps=[\n",
        "    ('scaler', RobustScaler())  # Standarisasi\n",
        "])\n",
        "# Pipeline preprocessing untuk fitur kategorikal\n",
        "categorical_transformer = Pipeline(steps=[\n",
        "    ('onehot', OneHotEncoder())  # One-hot encoding\n",
        "])\n",
        "\n",
        "# Gabungkan pipeline preprocessing untuk fitur numerik dan kategorikal\n",
        "preprocessor = ColumnTransformer(\n",
        "    transformers=[\n",
        "        ('num', numeric_transformer, numeric_features),\n",
        "        ('cat', categorical_transformer, categorical_features)\n",
        "    ])\n",
        "\n",
        "X = preprocessor.fit_transform(X)\n",
        "\n",
        "joblib.dump(preprocessor, 'pipeline.pkl')"
      ],
      "metadata": {
        "id": "h7qdTMsaocVL",
        "colab": {
          "base_uri": "https://localhost:8080/"
        },
        "outputId": "71c1eb87-9ff0-4c48-d7bb-3e165ea0d306"
      },
      "execution_count": 49,
      "outputs": [
        {
          "output_type": "execute_result",
          "data": {
            "text/plain": [
              "['pipeline.pkl']"
            ]
          },
          "metadata": {},
          "execution_count": 49
        }
      ]
    },
    {
      "cell_type": "code",
      "source": [
        "TEST_SIZE = 0.2\n",
        "RANDOM_STATE = 42\n",
        "X_train, X_test, y_train, y_test= train_test_split(X,y, test_size=TEST_SIZE, random_state=RANDOM_STATE)\n",
        "n_cols = X_train.shape[1]\n",
        "\n",
        "print(\"X_train shape : \" , X_train.shape)\n",
        "print(\"y_train shape : \" , y_train.shape)\n",
        "print(\"X_test  shape : \" , X_test.shape)\n",
        "print(\"y_test  shape : \" , y_test.shape)\n",
        "\n",
        "# X_train = X_train.toarray()  # Konversi SparseTensor menjadi numpy array\n",
        "# X_test = X_test.toarray()    # Konversi SparseTensor menjadi numpy array"
      ],
      "metadata": {
        "colab": {
          "base_uri": "https://localhost:8080/"
        },
        "id": "N-l_5YUIlUoP",
        "outputId": "dd977e1a-5fb8-4ba3-a0fb-ec1ada7b601b"
      },
      "execution_count": 26,
      "outputs": [
        {
          "output_type": "stream",
          "name": "stdout",
          "text": [
            "X_train shape :  (17544, 45)\n",
            "y_train shape :  (17544,)\n",
            "X_test  shape :  (4386, 45)\n",
            "y_test  shape :  (4386,)\n"
          ]
        }
      ]
    },
    {
      "cell_type": "code",
      "source": [
        "X_train[0]"
      ],
      "metadata": {
        "id": "S-igNro5hqe4",
        "colab": {
          "base_uri": "https://localhost:8080/"
        },
        "outputId": "d21ba980-b25b-4919-eff3-8d1da8b046a3"
      },
      "execution_count": 27,
      "outputs": [
        {
          "output_type": "execute_result",
          "data": {
            "text/plain": [
              "array([-0.68890861, -0.625     ,  1.53846154, -1.        ,  0.        ,\n",
              "        0.5       ,  0.        ,  1.        ,  1.        , -1.        ,\n",
              "       -1.        ,  0.        ,  1.        ,  0.        ,  0.        ,\n",
              "        1.        ,  0.        ,  0.        ,  0.        ,  0.        ,\n",
              "        1.        ,  0.        ,  0.        ,  0.        ,  0.        ,\n",
              "        1.        ,  0.        ,  0.        ,  0.        ,  0.        ,\n",
              "        0.        ,  0.        ,  0.        ,  1.        ,  0.        ,\n",
              "        0.        ,  0.        ,  0.        ,  1.        ,  0.        ,\n",
              "        0.        ,  0.        ,  0.        ,  1.        ,  0.        ])"
            ]
          },
          "metadata": {},
          "execution_count": 27
        }
      ]
    },
    {
      "cell_type": "code",
      "source": [
        "import numpy as np\n",
        "import tensorflow as tf\n",
        "from sklearn.model_selection import cross_val_score\n",
        "from sklearn.preprocessing import StandardScaler\n",
        "from sklearn.pipeline import Pipeline\n",
        "from sklearn.model_selection import KFold\n",
        "from tensorflow.keras.callbacks import EarlyStopping\n",
        "from tensorflow.keras.regularizers import l2"
      ],
      "metadata": {
        "id": "n_oXaj1Z2Ab8"
      },
      "execution_count": 28,
      "outputs": []
    },
    {
      "cell_type": "code",
      "source": [
        "model = tf.keras.Sequential([\n",
        "    tf.keras.layers.Dense(256, activation='relu', kernel_initializer='he_normal', kernel_regularizer=l2(0.01),input_shape=(X.shape[1],)),\n",
        "    tf.keras.layers.Dropout(0.2),  # Dropout layer\n",
        "    tf.keras.layers.Dense(256, activation='relu', kernel_initializer='he_normal', kernel_regularizer=l2(0.01)),\n",
        "    tf.keras.layers.Dropout(0.2),  # Dropout layer\n",
        "    tf.keras.layers.Dense(128, activation='relu', kernel_initializer='he_normal', kernel_regularizer=l2(0.01)),\n",
        "    tf.keras.layers.Dropout(0.2),  # Dropout layer\n",
        "    tf.keras.layers.Dense(128, activation='relu', kernel_initializer='he_normal', kernel_regularizer=l2(0.01)),\n",
        "    tf.keras.layers.Dropout(0.2),  # Dropout layer\n",
        "    tf.keras.layers.Dense(1, kernel_initializer='he_normal', activation='linear'),\n",
        "])\n",
        "\n",
        "# Kompilasi model\n",
        "\n",
        "model.compile(optimizer=tf.keras.optimizers.Adam(),\n",
        "              loss=tf.keras.losses.mean_absolute_error,\n",
        "              metrics=[\"mae\"],)\n",
        "\n",
        "# Early stopping callback\n",
        "early_stopping = EarlyStopping(monitor='loss', patience=10, restore_best_weights=True)\n",
        "\n",
        "# Latih model\n",
        "model.fit(X_train, y_train, epochs=100, batch_size=128\n",
        "          ,verbose=2,\n",
        "          callbacks=[early_stopping])\n",
        "\n",
        "# Evaluasi model\n",
        "loss, mae = model.evaluate(X_test, y_test, verbose=0)\n",
        "print('Mean Squared Error on Test Set:', mae)\n",
        "\n",
        "# Prediksi\n",
        "predictions = model.predict(X_test)\n",
        "\n",
        "# Make predictions\n",
        "y_preds = model.predict(X_test)"
      ],
      "metadata": {
        "colab": {
          "base_uri": "https://localhost:8080/"
        },
        "id": "xbZPn5qz7ZnZ",
        "outputId": "98c5a307-12df-478d-e321-78dcee1bb142"
      },
      "execution_count": 29,
      "outputs": [
        {
          "output_type": "stream",
          "name": "stdout",
          "text": [
            "Epoch 1/100\n",
            "138/138 - 2s - loss: 111691904.0000 - mae: 111691880.0000 - 2s/epoch - 15ms/step\n",
            "Epoch 2/100\n",
            "138/138 - 0s - loss: 61584292.0000 - mae: 61584124.0000 - 438ms/epoch - 3ms/step\n",
            "Epoch 3/100\n",
            "138/138 - 0s - loss: 23468126.0000 - mae: 23467906.0000 - 441ms/epoch - 3ms/step\n",
            "Epoch 4/100\n",
            "138/138 - 0s - loss: 21329160.0000 - mae: 21328920.0000 - 445ms/epoch - 3ms/step\n",
            "Epoch 5/100\n",
            "138/138 - 0s - loss: 20275534.0000 - mae: 20275300.0000 - 435ms/epoch - 3ms/step\n",
            "Epoch 6/100\n",
            "138/138 - 0s - loss: 19820806.0000 - mae: 19820566.0000 - 465ms/epoch - 3ms/step\n",
            "Epoch 7/100\n",
            "138/138 - 0s - loss: 19569428.0000 - mae: 19569176.0000 - 438ms/epoch - 3ms/step\n",
            "Epoch 8/100\n",
            "138/138 - 0s - loss: 19304172.0000 - mae: 19303924.0000 - 500ms/epoch - 4ms/step\n",
            "Epoch 9/100\n",
            "138/138 - 0s - loss: 19359028.0000 - mae: 19358778.0000 - 466ms/epoch - 3ms/step\n",
            "Epoch 10/100\n",
            "138/138 - 0s - loss: 19246836.0000 - mae: 19246592.0000 - 453ms/epoch - 3ms/step\n",
            "Epoch 11/100\n",
            "138/138 - 0s - loss: 19265684.0000 - mae: 19265440.0000 - 492ms/epoch - 4ms/step\n",
            "Epoch 12/100\n",
            "138/138 - 1s - loss: 19196802.0000 - mae: 19196558.0000 - 624ms/epoch - 5ms/step\n",
            "Epoch 13/100\n",
            "138/138 - 1s - loss: 19065658.0000 - mae: 19065418.0000 - 590ms/epoch - 4ms/step\n",
            "Epoch 14/100\n",
            "138/138 - 1s - loss: 19181716.0000 - mae: 19181472.0000 - 663ms/epoch - 5ms/step\n",
            "Epoch 15/100\n",
            "138/138 - 1s - loss: 19057042.0000 - mae: 19056794.0000 - 617ms/epoch - 4ms/step\n",
            "Epoch 16/100\n",
            "138/138 - 1s - loss: 19151742.0000 - mae: 19151492.0000 - 564ms/epoch - 4ms/step\n",
            "Epoch 17/100\n",
            "138/138 - 0s - loss: 19170172.0000 - mae: 19169928.0000 - 434ms/epoch - 3ms/step\n",
            "Epoch 18/100\n",
            "138/138 - 0s - loss: 19066426.0000 - mae: 19066186.0000 - 456ms/epoch - 3ms/step\n",
            "Epoch 19/100\n",
            "138/138 - 0s - loss: 19338758.0000 - mae: 19338508.0000 - 438ms/epoch - 3ms/step\n",
            "Epoch 20/100\n",
            "138/138 - 0s - loss: 19217348.0000 - mae: 19217100.0000 - 450ms/epoch - 3ms/step\n",
            "Epoch 21/100\n",
            "138/138 - 0s - loss: 19095962.0000 - mae: 19095718.0000 - 430ms/epoch - 3ms/step\n",
            "Epoch 22/100\n",
            "138/138 - 0s - loss: 19172948.0000 - mae: 19172708.0000 - 451ms/epoch - 3ms/step\n",
            "Epoch 23/100\n",
            "138/138 - 0s - loss: 19143716.0000 - mae: 19143466.0000 - 443ms/epoch - 3ms/step\n",
            "Epoch 24/100\n",
            "138/138 - 0s - loss: 19196336.0000 - mae: 19196084.0000 - 436ms/epoch - 3ms/step\n",
            "Epoch 25/100\n",
            "138/138 - 0s - loss: 19058300.0000 - mae: 19058052.0000 - 442ms/epoch - 3ms/step\n",
            "Mean Squared Error on Test Set: 17612616.0\n",
            "138/138 [==============================] - 0s 2ms/step\n",
            "138/138 [==============================] - 0s 2ms/step\n"
          ]
        }
      ]
    },
    {
      "cell_type": "markdown",
      "source": [
        "# Result"
      ],
      "metadata": {
        "id": "7tQXzGA9xWQt"
      }
    },
    {
      "cell_type": "code",
      "source": [
        "# Epoch 44/100\n",
        "# 138/138 - 1s - loss: 19111542.0000 - mae: 19111300.0000 - 669ms/epoch - 5ms/step\n",
        "# Mean Squared Error on Test Set: 17637802.0"
      ],
      "metadata": {
        "id": "BUOZv1-tAHqj"
      },
      "execution_count": 30,
      "outputs": []
    },
    {
      "cell_type": "markdown",
      "source": [
        "# Save Model"
      ],
      "metadata": {
        "id": "GFmQoMHMTYiK"
      }
    },
    {
      "cell_type": "code",
      "source": [
        "model.summary()"
      ],
      "metadata": {
        "colab": {
          "base_uri": "https://localhost:8080/"
        },
        "id": "OmAjX1-wAacJ",
        "outputId": "64562500-b59f-46fb-ac05-c55e65c9f8a9"
      },
      "execution_count": 31,
      "outputs": [
        {
          "output_type": "stream",
          "name": "stdout",
          "text": [
            "Model: \"sequential_1\"\n",
            "_________________________________________________________________\n",
            " Layer (type)                Output Shape              Param #   \n",
            "=================================================================\n",
            " dense_5 (Dense)             (None, 256)               11776     \n",
            "                                                                 \n",
            " dropout_4 (Dropout)         (None, 256)               0         \n",
            "                                                                 \n",
            " dense_6 (Dense)             (None, 256)               65792     \n",
            "                                                                 \n",
            " dropout_5 (Dropout)         (None, 256)               0         \n",
            "                                                                 \n",
            " dense_7 (Dense)             (None, 128)               32896     \n",
            "                                                                 \n",
            " dropout_6 (Dropout)         (None, 128)               0         \n",
            "                                                                 \n",
            " dense_8 (Dense)             (None, 128)               16512     \n",
            "                                                                 \n",
            " dropout_7 (Dropout)         (None, 128)               0         \n",
            "                                                                 \n",
            " dense_9 (Dense)             (None, 1)                 129       \n",
            "                                                                 \n",
            "=================================================================\n",
            "Total params: 127105 (496.50 KB)\n",
            "Trainable params: 127105 (496.50 KB)\n",
            "Non-trainable params: 0 (0.00 Byte)\n",
            "_________________________________________________________________\n"
          ]
        }
      ]
    },
    {
      "cell_type": "code",
      "source": [
        "model.save('model.h5')"
      ],
      "metadata": {
        "id": "wA2hJAw-TdE2",
        "colab": {
          "base_uri": "https://localhost:8080/"
        },
        "outputId": "82760630-0eaf-48ac-dff1-0914057701ca"
      },
      "execution_count": 32,
      "outputs": [
        {
          "output_type": "stream",
          "name": "stderr",
          "text": [
            "/usr/local/lib/python3.10/dist-packages/keras/src/engine/training.py:3103: UserWarning: You are saving your model as an HDF5 file via `model.save()`. This file format is considered legacy. We recommend using instead the native Keras format, e.g. `model.save('my_model.keras')`.\n",
            "  saving_api.save_model(\n"
          ]
        }
      ]
    },
    {
      "cell_type": "code",
      "source": [
        "model.save('saved_model/')"
      ],
      "metadata": {
        "id": "Mw7QrlbkMtTh"
      },
      "execution_count": 33,
      "outputs": []
    },
    {
      "cell_type": "code",
      "source": [
        "!pip list"
      ],
      "metadata": {
        "colab": {
          "base_uri": "https://localhost:8080/"
        },
        "id": "iwHbumRxiYT9",
        "outputId": "ad727396-82bf-467c-a27d-45547e695f0c"
      },
      "execution_count": 50,
      "outputs": [
        {
          "output_type": "stream",
          "name": "stdout",
          "text": [
            "Package                          Version\n",
            "-------------------------------- ---------------------\n",
            "absl-py                          1.4.0\n",
            "aiohttp                          3.9.5\n",
            "aiosignal                        1.3.1\n",
            "alabaster                        0.7.16\n",
            "albumentations                   1.3.1\n",
            "altair                           4.2.2\n",
            "annotated-types                  0.7.0\n",
            "anyio                            3.7.1\n",
            "argon2-cffi                      23.1.0\n",
            "argon2-cffi-bindings             21.2.0\n",
            "array_record                     0.5.1\n",
            "arviz                            0.15.1\n",
            "astropy                          5.3.4\n",
            "astunparse                       1.6.3\n",
            "async-timeout                    4.0.3\n",
            "atpublic                         4.1.0\n",
            "attrs                            23.2.0\n",
            "audioread                        3.0.1\n",
            "autograd                         1.6.2\n",
            "Babel                            2.15.0\n",
            "backcall                         0.2.0\n",
            "beautifulsoup4                   4.12.3\n",
            "bidict                           0.23.1\n",
            "bigframes                        1.8.0\n",
            "bleach                           6.1.0\n",
            "blinker                          1.4\n",
            "blis                             0.7.11\n",
            "blosc2                           2.0.0\n",
            "bokeh                            3.3.4\n",
            "bqplot                           0.12.43\n",
            "branca                           0.7.2\n",
            "build                            1.2.1\n",
            "CacheControl                     0.14.0\n",
            "cachetools                       5.3.3\n",
            "catalogue                        2.0.10\n",
            "certifi                          2024.6.2\n",
            "cffi                             1.16.0\n",
            "chardet                          5.2.0\n",
            "charset-normalizer               3.3.2\n",
            "chex                             0.1.86\n",
            "click                            8.1.7\n",
            "click-plugins                    1.1.1\n",
            "cligj                            0.7.2\n",
            "cloudpathlib                     0.18.1\n",
            "cloudpickle                      2.2.1\n",
            "cmake                            3.27.9\n",
            "cmdstanpy                        1.2.3\n",
            "colorcet                         3.1.0\n",
            "colorlover                       0.3.0\n",
            "colour                           0.1.5\n",
            "community                        1.0.0b1\n",
            "confection                       0.1.5\n",
            "cons                             0.4.6\n",
            "contextlib2                      21.6.0\n",
            "contourpy                        1.2.1\n",
            "cryptography                     42.0.8\n",
            "cuda-python                      12.2.1\n",
            "cudf-cu12                        24.4.1\n",
            "cufflinks                        0.17.3\n",
            "cupy-cuda12x                     12.2.0\n",
            "cvxopt                           1.3.2\n",
            "cvxpy                            1.3.4\n",
            "cycler                           0.12.1\n",
            "cymem                            2.0.8\n",
            "Cython                           3.0.10\n",
            "dask                             2023.8.1\n",
            "datascience                      0.17.6\n",
            "db-dtypes                        1.2.0\n",
            "dbus-python                      1.2.18\n",
            "debugpy                          1.6.6\n",
            "decorator                        4.4.2\n",
            "defusedxml                       0.7.1\n",
            "distributed                      2023.8.1\n",
            "distro                           1.7.0\n",
            "dlib                             19.24.4\n",
            "dm-tree                          0.1.8\n",
            "docstring_parser                 0.16\n",
            "docutils                         0.18.1\n",
            "dopamine_rl                      4.0.9\n",
            "duckdb                           0.10.3\n",
            "earthengine-api                  0.1.406\n",
            "easydict                         1.13\n",
            "ecos                             2.0.13\n",
            "editdistance                     0.6.2\n",
            "eerepr                           0.0.4\n",
            "en-core-web-sm                   3.7.1\n",
            "entrypoints                      0.4\n",
            "et-xmlfile                       1.1.0\n",
            "etils                            1.7.0\n",
            "etuples                          0.3.9\n",
            "exceptiongroup                   1.2.1\n",
            "fastai                           2.7.15\n",
            "fastcore                         1.5.45\n",
            "fastdownload                     0.0.7\n",
            "fastjsonschema                   2.19.1\n",
            "fastprogress                     1.0.3\n",
            "fastrlock                        0.8.2\n",
            "filelock                         3.14.0\n",
            "fiona                            1.9.6\n",
            "firebase-admin                   5.3.0\n",
            "Flask                            2.2.5\n",
            "flatbuffers                      24.3.25\n",
            "flax                             0.8.4\n",
            "folium                           0.14.0\n",
            "fonttools                        4.53.0\n",
            "frozendict                       2.4.4\n",
            "frozenlist                       1.4.1\n",
            "fsspec                           2023.6.0\n",
            "future                           0.18.3\n",
            "gast                             0.5.4\n",
            "gcsfs                            2023.6.0\n",
            "GDAL                             3.6.4\n",
            "gdown                            5.1.0\n",
            "geemap                           0.32.1\n",
            "gensim                           4.3.2\n",
            "geocoder                         1.38.1\n",
            "geographiclib                    2.0\n",
            "geopandas                        0.13.2\n",
            "geopy                            2.3.0\n",
            "gin-config                       0.5.0\n",
            "glob2                            0.7\n",
            "google                           2.0.3\n",
            "google-ai-generativelanguage     0.6.4\n",
            "google-api-core                  2.11.1\n",
            "google-api-python-client         2.84.0\n",
            "google-auth                      2.27.0\n",
            "google-auth-httplib2             0.1.1\n",
            "google-auth-oauthlib             1.2.0\n",
            "google-cloud-aiplatform          1.54.1\n",
            "google-cloud-bigquery            3.21.0\n",
            "google-cloud-bigquery-connection 1.12.1\n",
            "google-cloud-bigquery-storage    2.25.0\n",
            "google-cloud-core                2.3.3\n",
            "google-cloud-datastore           2.15.2\n",
            "google-cloud-firestore           2.11.1\n",
            "google-cloud-functions           1.13.3\n",
            "google-cloud-iam                 2.15.0\n",
            "google-cloud-language            2.13.3\n",
            "google-cloud-resource-manager    1.12.3\n",
            "google-cloud-storage             2.8.0\n",
            "google-cloud-translate           3.11.3\n",
            "google-colab                     1.0.0\n",
            "google-crc32c                    1.5.0\n",
            "google-generativeai              0.5.4\n",
            "google-pasta                     0.2.0\n",
            "google-resumable-media           2.7.0\n",
            "googleapis-common-protos         1.63.1\n",
            "googledrivedownloader            0.4\n",
            "graphviz                         0.20.3\n",
            "greenlet                         3.0.3\n",
            "grpc-google-iam-v1               0.13.0\n",
            "grpcio                           1.64.1\n",
            "grpcio-status                    1.48.2\n",
            "gspread                          6.0.2\n",
            "gspread-dataframe                3.3.1\n",
            "gym                              0.25.2\n",
            "gym-notices                      0.0.8\n",
            "h5netcdf                         1.3.0\n",
            "h5py                             3.9.0\n",
            "holidays                         0.50\n",
            "holoviews                        1.17.1\n",
            "html5lib                         1.1\n",
            "httpimport                       1.3.1\n",
            "httplib2                         0.22.0\n",
            "huggingface-hub                  0.23.3\n",
            "humanize                         4.7.0\n",
            "hyperopt                         0.2.7\n",
            "ibis-framework                   8.0.0\n",
            "idna                             3.7\n",
            "imageio                          2.31.6\n",
            "imageio-ffmpeg                   0.5.1\n",
            "imagesize                        1.4.1\n",
            "imbalanced-learn                 0.10.1\n",
            "imgaug                           0.4.0\n",
            "immutabledict                    4.2.0\n",
            "importlib_metadata               7.1.0\n",
            "importlib_resources              6.4.0\n",
            "imutils                          0.5.4\n",
            "inflect                          7.0.0\n",
            "iniconfig                        2.0.0\n",
            "intel-openmp                     2023.2.4\n",
            "ipyevents                        2.0.2\n",
            "ipyfilechooser                   0.6.0\n",
            "ipykernel                        5.5.6\n",
            "ipyleaflet                       0.18.2\n",
            "ipython                          7.34.0\n",
            "ipython-genutils                 0.2.0\n",
            "ipython-sql                      0.5.0\n",
            "ipytree                          0.2.2\n",
            "ipywidgets                       7.7.1\n",
            "itsdangerous                     2.2.0\n",
            "jax                              0.4.26\n",
            "jaxlib                           0.4.26+cuda12.cudnn89\n",
            "jeepney                          0.7.1\n",
            "jellyfish                        1.0.4\n",
            "jieba                            0.42.1\n",
            "Jinja2                           3.1.4\n",
            "joblib                           1.4.2\n",
            "jsonpickle                       3.2.1\n",
            "jsonschema                       4.19.2\n",
            "jsonschema-specifications        2023.12.1\n",
            "jupyter-client                   6.1.12\n",
            "jupyter-console                  6.1.0\n",
            "jupyter_core                     5.7.2\n",
            "jupyter-server                   1.24.0\n",
            "jupyterlab_pygments              0.3.0\n",
            "jupyterlab_widgets               3.0.11\n",
            "kaggle                           1.6.14\n",
            "kagglehub                        0.2.6\n",
            "keras                            2.15.0\n",
            "keyring                          23.5.0\n",
            "kiwisolver                       1.4.5\n",
            "langcodes                        3.4.0\n",
            "language_data                    1.2.0\n",
            "launchpadlib                     1.10.16\n",
            "lazr.restfulclient               0.14.4\n",
            "lazr.uri                         1.0.6\n",
            "lazy_loader                      0.4\n",
            "libclang                         18.1.1\n",
            "librosa                          0.10.2.post1\n",
            "lightgbm                         4.1.0\n",
            "linkify-it-py                    2.0.3\n",
            "llvmlite                         0.41.1\n",
            "locket                           1.0.0\n",
            "logical-unification              0.4.6\n",
            "lxml                             4.9.4\n",
            "malloy                           2023.1067\n",
            "marisa-trie                      1.2.0\n",
            "Markdown                         3.6\n",
            "markdown-it-py                   3.0.0\n",
            "MarkupSafe                       2.1.5\n",
            "matplotlib                       3.7.1\n",
            "matplotlib-inline                0.1.7\n",
            "matplotlib-venn                  0.11.10\n",
            "mdit-py-plugins                  0.4.1\n",
            "mdurl                            0.1.2\n",
            "miniKanren                       1.0.3\n",
            "missingno                        0.5.2\n",
            "mistune                          0.8.4\n",
            "mizani                           0.9.3\n",
            "mkl                              2023.2.0\n",
            "ml-dtypes                        0.2.0\n",
            "mlxtend                          0.22.0\n",
            "more-itertools                   10.1.0\n",
            "moviepy                          1.0.3\n",
            "mpmath                           1.3.0\n",
            "msgpack                          1.0.8\n",
            "multidict                        6.0.5\n",
            "multipledispatch                 1.0.0\n",
            "multitasking                     0.0.11\n",
            "murmurhash                       1.0.10\n",
            "music21                          9.1.0\n",
            "natsort                          8.4.0\n",
            "nbclassic                        1.1.0\n",
            "nbclient                         0.10.0\n",
            "nbconvert                        6.5.4\n",
            "nbformat                         5.10.4\n",
            "nest-asyncio                     1.6.0\n",
            "networkx                         3.3\n",
            "nibabel                          4.0.2\n",
            "nltk                             3.8.1\n",
            "notebook                         6.5.5\n",
            "notebook_shim                    0.2.4\n",
            "numba                            0.58.1\n",
            "numexpr                          2.10.0\n",
            "numpy                            1.25.2\n",
            "nvtx                             0.2.10\n",
            "oauth2client                     4.1.3\n",
            "oauthlib                         3.2.2\n",
            "opencv-contrib-python            4.8.0.76\n",
            "opencv-python                    4.8.0.76\n",
            "opencv-python-headless           4.10.0.82\n",
            "openpyxl                         3.1.3\n",
            "opt-einsum                       3.3.0\n",
            "optax                            0.2.2\n",
            "orbax-checkpoint                 0.4.4\n",
            "osqp                             0.6.2.post8\n",
            "packaging                        24.1\n",
            "pandas                           2.0.3\n",
            "pandas-datareader                0.10.0\n",
            "pandas-gbq                       0.19.2\n",
            "pandas-stubs                     2.0.3.230814\n",
            "pandocfilters                    1.5.1\n",
            "panel                            1.3.8\n",
            "param                            2.1.0\n",
            "parso                            0.8.4\n",
            "parsy                            2.1\n",
            "partd                            1.4.2\n",
            "pathlib                          1.0.1\n",
            "patsy                            0.5.6\n",
            "peewee                           3.17.5\n",
            "pexpect                          4.9.0\n",
            "pickleshare                      0.7.5\n",
            "Pillow                           9.4.0\n",
            "pip                              23.1.2\n",
            "pip-tools                        6.13.0\n",
            "platformdirs                     4.2.2\n",
            "plotly                           5.15.0\n",
            "plotnine                         0.12.4\n",
            "pluggy                           1.5.0\n",
            "polars                           0.20.2\n",
            "pooch                            1.8.2\n",
            "portpicker                       1.5.2\n",
            "prefetch-generator               1.0.3\n",
            "preshed                          3.0.9\n",
            "prettytable                      3.10.0\n",
            "proglog                          0.1.10\n",
            "progressbar2                     4.2.0\n",
            "prometheus_client                0.20.0\n",
            "promise                          2.3\n",
            "prompt_toolkit                   3.0.47\n",
            "prophet                          1.1.5\n",
            "proto-plus                       1.23.0\n",
            "protobuf                         3.20.3\n",
            "psutil                           5.9.5\n",
            "psycopg2                         2.9.9\n",
            "ptyprocess                       0.7.0\n",
            "py-cpuinfo                       9.0.0\n",
            "py4j                             0.10.9.7\n",
            "pyarrow                          14.0.2\n",
            "pyarrow-hotfix                   0.6\n",
            "pyasn1                           0.6.0\n",
            "pyasn1_modules                   0.4.0\n",
            "pycocotools                      2.0.7\n",
            "pycparser                        2.22\n",
            "pydantic                         2.7.3\n",
            "pydantic_core                    2.18.4\n",
            "pydata-google-auth               1.8.2\n",
            "pydot                            1.4.2\n",
            "pydot-ng                         2.0.0\n",
            "pydotplus                        2.0.2\n",
            "PyDrive                          1.3.1\n",
            "PyDrive2                         1.6.3\n",
            "pyerfa                           2.0.1.4\n",
            "pygame                           2.5.2\n",
            "Pygments                         2.16.1\n",
            "PyGObject                        3.42.1\n",
            "PyJWT                            2.3.0\n",
            "pymc                             5.10.4\n",
            "pymystem3                        0.2.0\n",
            "pynvjitlink-cu12                 0.2.3\n",
            "PyOpenGL                         3.1.7\n",
            "pyOpenSSL                        24.1.0\n",
            "pyparsing                        3.1.2\n",
            "pyperclip                        1.8.2\n",
            "pyproj                           3.6.1\n",
            "pyproject_hooks                  1.1.0\n",
            "pyshp                            2.3.1\n",
            "PySocks                          1.7.1\n",
            "pytensor                         2.18.6\n",
            "pytest                           7.4.4\n",
            "python-apt                       0.0.0\n",
            "python-box                       7.1.1\n",
            "python-dateutil                  2.8.2\n",
            "python-louvain                   0.16\n",
            "python-slugify                   8.0.4\n",
            "python-utils                     3.8.2\n",
            "pytz                             2023.4\n",
            "pyviz_comms                      3.0.2\n",
            "PyWavelets                       1.6.0\n",
            "PyYAML                           6.0.1\n",
            "pyzmq                            24.0.1\n",
            "qdldl                            0.1.7.post2\n",
            "qudida                           0.0.4\n",
            "ratelim                          0.1.6\n",
            "referencing                      0.35.1\n",
            "regex                            2024.5.15\n",
            "requests                         2.31.0\n",
            "requests-oauthlib                1.3.1\n",
            "requirements-parser              0.9.0\n",
            "rich                             13.7.1\n",
            "rmm-cu12                         24.4.0\n",
            "rpds-py                          0.18.1\n",
            "rpy2                             3.4.2\n",
            "rsa                              4.9\n",
            "safetensors                      0.4.3\n",
            "scikit-image                     0.19.3\n",
            "scikit-learn                     1.2.2\n",
            "scipy                            1.11.4\n",
            "scooby                           0.10.0\n",
            "scs                              3.2.4.post2\n",
            "seaborn                          0.13.1\n",
            "SecretStorage                    3.3.1\n",
            "Send2Trash                       1.8.3\n",
            "sentencepiece                    0.1.99\n",
            "setuptools                       67.7.2\n",
            "shapely                          2.0.4\n",
            "shellingham                      1.5.4\n",
            "simple_parsing                   0.1.5\n",
            "six                              1.16.0\n",
            "sklearn-pandas                   2.2.0\n",
            "smart-open                       7.0.4\n",
            "sniffio                          1.3.1\n",
            "snowballstemmer                  2.2.0\n",
            "sortedcontainers                 2.4.0\n",
            "soundfile                        0.12.1\n",
            "soupsieve                        2.5\n",
            "soxr                             0.3.7\n",
            "spacy                            3.7.5\n",
            "spacy-legacy                     3.0.12\n",
            "spacy-loggers                    1.0.5\n",
            "Sphinx                           5.0.2\n",
            "sphinxcontrib-applehelp          1.0.8\n",
            "sphinxcontrib-devhelp            1.0.6\n",
            "sphinxcontrib-htmlhelp           2.0.5\n",
            "sphinxcontrib-jsmath             1.0.1\n",
            "sphinxcontrib-qthelp             1.0.7\n",
            "sphinxcontrib-serializinghtml    1.1.10\n",
            "SQLAlchemy                       2.0.30\n",
            "sqlglot                          20.11.0\n",
            "sqlparse                         0.5.0\n",
            "srsly                            2.4.8\n",
            "stanio                           0.5.0\n",
            "statsmodels                      0.14.2\n",
            "StrEnum                          0.4.15\n",
            "sympy                            1.12.1\n",
            "tables                           3.8.0\n",
            "tabulate                         0.9.0\n",
            "tbb                              2021.12.0\n",
            "tblib                            3.0.0\n",
            "tenacity                         8.3.0\n",
            "tensorboard                      2.15.2\n",
            "tensorboard-data-server          0.7.2\n",
            "tensorflow                       2.15.0\n",
            "tensorflow-datasets              4.9.6\n",
            "tensorflow-estimator             2.15.0\n",
            "tensorflow-gcs-config            2.15.0\n",
            "tensorflow-hub                   0.16.1\n",
            "tensorflow-io-gcs-filesystem     0.37.0\n",
            "tensorflow-metadata              1.15.0\n",
            "tensorflow-probability           0.23.0\n",
            "tensorstore                      0.1.45\n",
            "termcolor                        2.4.0\n",
            "terminado                        0.18.1\n",
            "text-unidecode                   1.3\n",
            "textblob                         0.17.1\n",
            "tf_keras                         2.15.1\n",
            "tf-slim                          1.1.0\n",
            "thinc                            8.2.4\n",
            "threadpoolctl                    3.5.0\n",
            "tifffile                         2024.5.22\n",
            "tinycss2                         1.3.0\n",
            "tokenizers                       0.19.1\n",
            "toml                             0.10.2\n",
            "tomli                            2.0.1\n",
            "toolz                            0.12.1\n",
            "torch                            2.3.0+cu121\n",
            "torchaudio                       2.3.0+cu121\n",
            "torchsummary                     1.5.1\n",
            "torchtext                        0.18.0\n",
            "torchvision                      0.18.0+cu121\n",
            "tornado                          6.3.3\n",
            "tqdm                             4.66.4\n",
            "traitlets                        5.7.1\n",
            "traittypes                       0.2.1\n",
            "transformers                     4.41.2\n",
            "triton                           2.3.0\n",
            "tweepy                           4.14.0\n",
            "typer                            0.12.3\n",
            "types-pytz                       2024.1.0.20240417\n",
            "types-setuptools                 70.0.0.20240524\n",
            "typing_extensions                4.12.2\n",
            "tzdata                           2024.1\n",
            "tzlocal                          5.2\n",
            "uc-micro-py                      1.0.3\n",
            "uritemplate                      4.1.1\n",
            "urllib3                          2.0.7\n",
            "vega-datasets                    0.9.0\n",
            "wadllib                          1.3.6\n",
            "wasabi                           1.1.3\n",
            "wcwidth                          0.2.13\n",
            "weasel                           0.4.1\n",
            "webcolors                        24.6.0\n",
            "webencodings                     0.5.1\n",
            "websocket-client                 1.8.0\n",
            "Werkzeug                         3.0.3\n",
            "wheel                            0.43.0\n",
            "widgetsnbextension               3.6.6\n",
            "wordcloud                        1.9.3\n",
            "wrapt                            1.14.1\n",
            "xarray                           2023.7.0\n",
            "xarray-einstats                  0.7.0\n",
            "xgboost                          2.0.3\n",
            "xlrd                             2.0.1\n",
            "xyzservices                      2024.6.0\n",
            "yarl                             1.9.4\n",
            "yellowbrick                      1.5\n",
            "yfinance                         0.2.40\n",
            "zict                             3.0.0\n",
            "zipp                             3.19.2\n"
          ]
        }
      ]
    }
  ]
}