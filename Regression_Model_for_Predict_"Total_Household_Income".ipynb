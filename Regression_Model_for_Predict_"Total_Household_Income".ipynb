{
  "nbformat": 4,
  "nbformat_minor": 0,
  "metadata": {
    "colab": {
      "provenance": [],
      "gpuType": "T4",
      "include_colab_link": true
    },
    "kernelspec": {
      "name": "python3",
      "display_name": "Python 3"
    },
    "language_info": {
      "name": "python"
    },
    "accelerator": "GPU"
  },
  "cells": [
    {
      "cell_type": "markdown",
      "metadata": {
        "id": "view-in-github",
        "colab_type": "text"
      },
      "source": [
        "<a href=\"https://colab.research.google.com/github/FinSafe/MachineLearning/blob/main/Regression_Model_for_Predict_%22Total_Household_Income%22.ipynb\" target=\"_parent\"><img src=\"https://colab.research.google.com/assets/colab-badge.svg\" alt=\"Open In Colab\"/></a>"
      ]
    },
    {
      "cell_type": "markdown",
      "source": [
        "# Import Library and Dataset"
      ],
      "metadata": {
        "id": "yZU3hCsEOY7-"
      }
    },
    {
      "cell_type": "code",
      "source": [
        "import pandas as pd\n",
        "import gdown\n",
        "import seaborn as sns\n",
        "import matplotlib.pyplot as plt\n",
        "import numpy as np\n",
        "\n",
        "import tensorflow as tf\n",
        "import pandas as pd\n",
        "from sklearn.model_selection import train_test_split\n",
        "from sklearn.preprocessing import RobustScaler, StandardScaler\n",
        "\n",
        "import tensorflow as tf\n",
        "import pandas as pd\n",
        "from sklearn.model_selection import train_test_split\n",
        "from sklearn.preprocessing import StandardScaler, OneHotEncoder\n",
        "from sklearn.pipeline import Pipeline\n",
        "from sklearn.compose import ColumnTransformer\n",
        "from sklearn.metrics import mean_squared_error"
      ],
      "metadata": {
        "id": "Gy6-NyiKOcyM"
      },
      "execution_count": 1,
      "outputs": []
    },
    {
      "cell_type": "code",
      "source": [
        "# Helper Function\n",
        "def import_from_gdrive(id_file, file_name, sheet_name=None):\n",
        "    link = 'https://drive.google.com/uc?id=' + id_file\n",
        "    output_file = '/content/' + file_name\n",
        "    gdown.download(link, output_file, quiet=False)\n",
        "\n",
        "    df = pd.read_excel(output_file)\n",
        "    return df"
      ],
      "metadata": {
        "id": "nfRIPLh4Obst"
      },
      "execution_count": 2,
      "outputs": []
    },
    {
      "cell_type": "code",
      "execution_count": 3,
      "metadata": {
        "id": "h09WNl4nbK30",
        "colab": {
          "base_uri": "https://localhost:8080/"
        },
        "outputId": "4d82c889-062f-4f56-9976-7d900087ac1e"
      },
      "outputs": [
        {
          "output_type": "stream",
          "name": "stderr",
          "text": [
            "Downloading...\n",
            "From: https://drive.google.com/uc?id=1i8urlJHl90Mpq6eVIoOqsfJttx9F1HsA\n",
            "To: /content/final_dataset_converted_rupiah.xlsx\n",
            "100%|██████████| 10.0M/10.0M [00:00<00:00, 55.3MB/s]\n"
          ]
        }
      ],
      "source": [
        "id_file = '1i8urlJHl90Mpq6eVIoOqsfJttx9F1HsA'\n",
        "df = import_from_gdrive(id_file,'final_dataset_converted_rupiah.xlsx')"
      ]
    },
    {
      "cell_type": "code",
      "source": [
        "df = pd.read_excel('final_dataset_converted_rupiah.xlsx')"
      ],
      "metadata": {
        "id": "Re_USE4WgOPj"
      },
      "execution_count": 4,
      "outputs": []
    },
    {
      "cell_type": "code",
      "source": [
        "fix_columns =['Total Household Income',\n",
        "              'Household Head Sex',\n",
        "              'Household Head Age',\n",
        "              'Household Head Marital Status',\n",
        "              # 'Household Head Highest Grade Completed',\n",
        "              'Household Head Highest Grade Completed (Simplified)',\n",
        "              'Total Household Income',\n",
        "              # 'Region',\n",
        "              'Region Category',\n",
        "              'Type of Building/House',\n",
        "              'House Floor Area',\n",
        "              'Number of bedrooms',\n",
        "              'Electricity',\n",
        "              'Tenure Status',\n",
        "              'Type of Household',\n",
        "              'Total Number of Family members',\n",
        "              'Total number of family members employed',\n",
        "              # 'Number of Car, Jeep, Van',\n",
        "              # 'Number of Motorcycle/Tricycle',\n",
        "              # 'Number of Television',\n",
        "              # 'Number of Airconditioner',\n",
        "              # 'Number of Personal Computer',\n",
        "              # 'Number of Cellular phone',\n",
        "              # 'Number of Refrigerator/Freezer',\n",
        "              # 'Number of Washing Machine',\n",
        "              'Number of Kids',\n",
        "              'Number of Vehicles',\n",
        "              'Number of Communication Devices',\n",
        "              'Number of Electronics',\n",
        "              ]\n",
        "\n",
        "X =  df.loc[:, fix_columns]\n",
        "X = X.loc[:,~X.columns.duplicated()]\n",
        "\n",
        "# Mengubah tipe data int menjadi float\n",
        "int_columns = X.select_dtypes(include=['int32', 'int64']).columns\n",
        "X[int_columns] = X[int_columns].astype('float64')\n",
        "\n",
        "y = df['Total Expenses']"
      ],
      "metadata": {
        "id": "POG_mtiDOCFg"
      },
      "execution_count": 5,
      "outputs": []
    },
    {
      "cell_type": "code",
      "source": [
        "X.info()"
      ],
      "metadata": {
        "colab": {
          "base_uri": "https://localhost:8080/"
        },
        "id": "HCE1rpTVkj3k",
        "outputId": "ad90f2e9-3231-48fa-9805-534dfaaa234f"
      },
      "execution_count": 6,
      "outputs": [
        {
          "output_type": "stream",
          "name": "stdout",
          "text": [
            "<class 'pandas.core.frame.DataFrame'>\n",
            "RangeIndex: 21930 entries, 0 to 21929\n",
            "Data columns (total 18 columns):\n",
            " #   Column                                               Non-Null Count  Dtype  \n",
            "---  ------                                               --------------  -----  \n",
            " 0   Total Household Income                               21930 non-null  float64\n",
            " 1   Household Head Sex                                   21930 non-null  object \n",
            " 2   Household Head Age                                   21930 non-null  float64\n",
            " 3   Household Head Marital Status                        21930 non-null  object \n",
            " 4   Household Head Highest Grade Completed (Simplified)  21925 non-null  object \n",
            " 5   Region Category                                      21930 non-null  object \n",
            " 6   Type of Building/House                               21930 non-null  object \n",
            " 7   House Floor Area                                     21930 non-null  float64\n",
            " 8   Number of bedrooms                                   21930 non-null  float64\n",
            " 9   Electricity                                          21930 non-null  float64\n",
            " 10  Tenure Status                                        21930 non-null  object \n",
            " 11  Type of Household                                    21930 non-null  object \n",
            " 12  Total Number of Family members                       21930 non-null  float64\n",
            " 13  Total number of family members employed              21930 non-null  float64\n",
            " 14  Number of Kids                                       21930 non-null  float64\n",
            " 15  Number of Vehicles                                   21930 non-null  float64\n",
            " 16  Number of Communication Devices                      21930 non-null  float64\n",
            " 17  Number of Electronics                                21930 non-null  float64\n",
            "dtypes: float64(11), object(7)\n",
            "memory usage: 3.0+ MB\n"
          ]
        }
      ]
    },
    {
      "cell_type": "code",
      "source": [
        "numeric_features = X.select_dtypes(include=['int64', 'float64']).columns.tolist()\n",
        "categorical_features = X.select_dtypes(include=['object', 'category']).columns.tolist()\n",
        "\n",
        "# Pipeline preprocessing untuk fitur numerik\n",
        "numeric_transformer = Pipeline(steps=[\n",
        "    ('scaler', RobustScaler())  # Standarisasi\n",
        "])\n",
        "# Pipeline preprocessing untuk fitur kategorikal\n",
        "categorical_transformer = Pipeline(steps=[\n",
        "    ('onehot', OneHotEncoder())  # One-hot encoding\n",
        "])\n",
        "\n",
        "# Gabungkan pipeline preprocessing untuk fitur numerik dan kategorikal\n",
        "preprocessor = ColumnTransformer(\n",
        "    transformers=[\n",
        "        ('num', numeric_transformer, numeric_features),\n",
        "        ('cat', categorical_transformer, categorical_features)\n",
        "    ])\n",
        "\n",
        "X = preprocessor.fit_transform(X)"
      ],
      "metadata": {
        "id": "h7qdTMsaocVL"
      },
      "execution_count": 7,
      "outputs": []
    },
    {
      "cell_type": "code",
      "source": [
        "TEST_SIZE = 0.2\n",
        "RANDOM_STATE = 42\n",
        "X_train, X_test, y_train, y_test= train_test_split(X,y, test_size=TEST_SIZE, random_state=RANDOM_STATE)\n",
        "n_cols = X_train.shape[1]\n",
        "\n",
        "print(\"X_train shape : \" , X_train.shape)\n",
        "print(\"y_train shape : \" , y_train.shape)\n",
        "print(\"X_test  shape : \" , X_test.shape)\n",
        "print(\"y_test  shape : \" , y_test.shape)\n",
        "\n",
        "# X_train = X_train.toarray()  # Konversi SparseTensor menjadi numpy array\n",
        "# X_test = X_test.toarray()    # Konversi SparseTensor menjadi numpy array"
      ],
      "metadata": {
        "colab": {
          "base_uri": "https://localhost:8080/"
        },
        "id": "N-l_5YUIlUoP",
        "outputId": "dcef579d-3edf-4204-d969-aec522f56854"
      },
      "execution_count": 8,
      "outputs": [
        {
          "output_type": "stream",
          "name": "stdout",
          "text": [
            "X_train shape :  (17544, 45)\n",
            "y_train shape :  (17544,)\n",
            "X_test  shape :  (4386, 45)\n",
            "y_test  shape :  (4386,)\n"
          ]
        }
      ]
    },
    {
      "cell_type": "code",
      "source": [
        "from keras import backend as K\n",
        "# Fungsi untuk menghitung RMSE\n",
        "def root_mean_squared_error(y_true, y_pred):\n",
        "        return K.sqrt(K.mean(K.square(y_pred - y_true)))"
      ],
      "metadata": {
        "id": "S-igNro5hqe4"
      },
      "execution_count": 9,
      "outputs": []
    },
    {
      "cell_type": "code",
      "source": [
        "import numpy as np\n",
        "import tensorflow as tf\n",
        "from sklearn.model_selection import cross_val_score\n",
        "from sklearn.preprocessing import StandardScaler\n",
        "from sklearn.pipeline import Pipeline\n",
        "from sklearn.model_selection import KFold\n",
        "from tensorflow.keras.callbacks import EarlyStopping\n",
        "from tensorflow.keras.regularizers import l2"
      ],
      "metadata": {
        "id": "n_oXaj1Z2Ab8"
      },
      "execution_count": 10,
      "outputs": []
    },
    {
      "cell_type": "code",
      "source": [
        "model = tf.keras.Sequential([\n",
        "    tf.keras.layers.Dense(256, activation='relu', kernel_initializer='he_normal', kernel_regularizer=l2(0.01),input_shape=(X.shape[1],)),\n",
        "    tf.keras.layers.Dropout(0.2),  # Dropout layer\n",
        "    tf.keras.layers.Dense(256, activation='relu', kernel_initializer='he_normal', kernel_regularizer=l2(0.01)),\n",
        "    tf.keras.layers.Dropout(0.2),  # Dropout layer\n",
        "    tf.keras.layers.Dense(128, activation='relu', kernel_initializer='he_normal', kernel_regularizer=l2(0.01)),\n",
        "    tf.keras.layers.Dropout(0.2),  # Dropout layer\n",
        "    tf.keras.layers.Dense(128, activation='relu', kernel_initializer='he_normal', kernel_regularizer=l2(0.01)),\n",
        "    tf.keras.layers.Dropout(0.2),  # Dropout layer\n",
        "    tf.keras.layers.Dense(1, kernel_initializer='he_normal', activation='linear'),\n",
        "])\n",
        "\n",
        "# Kompilasi model\n",
        "\n",
        "model.compile(optimizer=tf.keras.optimizers.Adam(),\n",
        "              loss=tf.keras.losses.mean_absolute_error,\n",
        "              metrics=[\"mae\"],)\n",
        "\n",
        "# Early stopping callback\n",
        "early_stopping = EarlyStopping(monitor='loss', patience=10, restore_best_weights=True)\n",
        "\n",
        "# Latih model\n",
        "model.fit(X_train, y_train, epochs=100, batch_size=128\n",
        "          ,verbose=2,\n",
        "          callbacks=[early_stopping])\n",
        "\n",
        "# Evaluasi model\n",
        "loss, mae = model.evaluate(X_test, y_test, verbose=0)\n",
        "print('Mean Squared Error on Test Set:', mae)\n",
        "\n",
        "# Prediksi\n",
        "predictions = model.predict(X_test)\n",
        "\n",
        "# Make predictions\n",
        "y_preds = model.predict(X_test)"
      ],
      "metadata": {
        "colab": {
          "base_uri": "https://localhost:8080/"
        },
        "id": "xbZPn5qz7ZnZ",
        "outputId": "00895653-05b4-4917-9da0-e0fd08b2c32b"
      },
      "execution_count": 11,
      "outputs": [
        {
          "output_type": "stream",
          "name": "stdout",
          "text": [
            "Epoch 1/100\n",
            "138/138 - 5s - loss: 111687976.0000 - mae: 111687960.0000 - 5s/epoch - 35ms/step\n",
            "Epoch 2/100\n",
            "138/138 - 0s - loss: 61279864.0000 - mae: 61279688.0000 - 448ms/epoch - 3ms/step\n",
            "Epoch 3/100\n",
            "138/138 - 0s - loss: 23315844.0000 - mae: 23315618.0000 - 446ms/epoch - 3ms/step\n",
            "Epoch 4/100\n",
            "138/138 - 0s - loss: 21407360.0000 - mae: 21407132.0000 - 457ms/epoch - 3ms/step\n",
            "Epoch 5/100\n",
            "138/138 - 0s - loss: 20216338.0000 - mae: 20216108.0000 - 466ms/epoch - 3ms/step\n",
            "Epoch 6/100\n",
            "138/138 - 0s - loss: 19644086.0000 - mae: 19643850.0000 - 467ms/epoch - 3ms/step\n",
            "Epoch 7/100\n",
            "138/138 - 0s - loss: 19500018.0000 - mae: 19499776.0000 - 436ms/epoch - 3ms/step\n",
            "Epoch 8/100\n",
            "138/138 - 0s - loss: 19283588.0000 - mae: 19283346.0000 - 433ms/epoch - 3ms/step\n",
            "Epoch 9/100\n",
            "138/138 - 0s - loss: 19097478.0000 - mae: 19097236.0000 - 442ms/epoch - 3ms/step\n",
            "Epoch 10/100\n",
            "138/138 - 0s - loss: 19092216.0000 - mae: 19091970.0000 - 449ms/epoch - 3ms/step\n",
            "Epoch 11/100\n",
            "138/138 - 0s - loss: 19302910.0000 - mae: 19302670.0000 - 453ms/epoch - 3ms/step\n",
            "Epoch 12/100\n",
            "138/138 - 0s - loss: 19211808.0000 - mae: 19211562.0000 - 446ms/epoch - 3ms/step\n",
            "Epoch 13/100\n",
            "138/138 - 0s - loss: 19174648.0000 - mae: 19174402.0000 - 434ms/epoch - 3ms/step\n",
            "Epoch 14/100\n",
            "138/138 - 0s - loss: 19073970.0000 - mae: 19073728.0000 - 450ms/epoch - 3ms/step\n",
            "Epoch 15/100\n",
            "138/138 - 0s - loss: 19158170.0000 - mae: 19157930.0000 - 429ms/epoch - 3ms/step\n",
            "Epoch 16/100\n",
            "138/138 - 0s - loss: 19276662.0000 - mae: 19276412.0000 - 435ms/epoch - 3ms/step\n",
            "Epoch 17/100\n",
            "138/138 - 0s - loss: 19116060.0000 - mae: 19115814.0000 - 428ms/epoch - 3ms/step\n",
            "Epoch 18/100\n",
            "138/138 - 0s - loss: 19099894.0000 - mae: 19099648.0000 - 482ms/epoch - 3ms/step\n",
            "Epoch 19/100\n",
            "138/138 - 1s - loss: 19286774.0000 - mae: 19286528.0000 - 620ms/epoch - 4ms/step\n",
            "Epoch 20/100\n",
            "138/138 - 1s - loss: 19055962.0000 - mae: 19055714.0000 - 583ms/epoch - 4ms/step\n",
            "Epoch 21/100\n",
            "138/138 - 1s - loss: 19114654.0000 - mae: 19114406.0000 - 611ms/epoch - 4ms/step\n",
            "Epoch 22/100\n",
            "138/138 - 1s - loss: 19061724.0000 - mae: 19061476.0000 - 601ms/epoch - 4ms/step\n",
            "Epoch 23/100\n",
            "138/138 - 1s - loss: 19175008.0000 - mae: 19174762.0000 - 636ms/epoch - 5ms/step\n",
            "Epoch 24/100\n",
            "138/138 - 0s - loss: 19218378.0000 - mae: 19218130.0000 - 431ms/epoch - 3ms/step\n",
            "Epoch 25/100\n",
            "138/138 - 0s - loss: 19122864.0000 - mae: 19122612.0000 - 444ms/epoch - 3ms/step\n",
            "Epoch 26/100\n",
            "138/138 - 0s - loss: 19186398.0000 - mae: 19186148.0000 - 420ms/epoch - 3ms/step\n",
            "Epoch 27/100\n",
            "138/138 - 0s - loss: 19297390.0000 - mae: 19297138.0000 - 437ms/epoch - 3ms/step\n",
            "Epoch 28/100\n",
            "138/138 - 0s - loss: 19014216.0000 - mae: 19013972.0000 - 421ms/epoch - 3ms/step\n",
            "Epoch 29/100\n",
            "138/138 - 0s - loss: 19115024.0000 - mae: 19114776.0000 - 420ms/epoch - 3ms/step\n",
            "Epoch 30/100\n",
            "138/138 - 0s - loss: 19096838.0000 - mae: 19096596.0000 - 421ms/epoch - 3ms/step\n",
            "Epoch 31/100\n",
            "138/138 - 0s - loss: 19016184.0000 - mae: 19015934.0000 - 420ms/epoch - 3ms/step\n",
            "Epoch 32/100\n",
            "138/138 - 0s - loss: 19203810.0000 - mae: 19203560.0000 - 450ms/epoch - 3ms/step\n",
            "Epoch 33/100\n",
            "138/138 - 0s - loss: 19105106.0000 - mae: 19104860.0000 - 418ms/epoch - 3ms/step\n",
            "Epoch 34/100\n",
            "138/138 - 0s - loss: 19138122.0000 - mae: 19137872.0000 - 478ms/epoch - 3ms/step\n",
            "Epoch 35/100\n",
            "138/138 - 1s - loss: 19065952.0000 - mae: 19065704.0000 - 610ms/epoch - 4ms/step\n",
            "Epoch 36/100\n",
            "138/138 - 1s - loss: 19186226.0000 - mae: 19185978.0000 - 542ms/epoch - 4ms/step\n",
            "Epoch 37/100\n",
            "138/138 - 1s - loss: 19211070.0000 - mae: 19210822.0000 - 533ms/epoch - 4ms/step\n",
            "Epoch 38/100\n",
            "138/138 - 1s - loss: 19084822.0000 - mae: 19084576.0000 - 688ms/epoch - 5ms/step\n",
            "Mean Squared Error on Test Set: 17604942.0\n",
            "138/138 [==============================] - 0s 1ms/step\n",
            "138/138 [==============================] - 0s 2ms/step\n"
          ]
        }
      ]
    },
    {
      "cell_type": "markdown",
      "source": [
        "# Result"
      ],
      "metadata": {
        "id": "7tQXzGA9xWQt"
      }
    },
    {
      "cell_type": "code",
      "source": [
        "# Epoch 44/100\n",
        "# 138/138 - 1s - loss: 19111542.0000 - mae: 19111300.0000 - 669ms/epoch - 5ms/step\n",
        "# Mean Squared Error on Test Set: 17637802.0"
      ],
      "metadata": {
        "id": "BUOZv1-tAHqj"
      },
      "execution_count": 12,
      "outputs": []
    },
    {
      "cell_type": "markdown",
      "source": [
        "# Save Model"
      ],
      "metadata": {
        "id": "GFmQoMHMTYiK"
      }
    },
    {
      "cell_type": "code",
      "source": [
        "model.summary()"
      ],
      "metadata": {
        "colab": {
          "base_uri": "https://localhost:8080/"
        },
        "id": "OmAjX1-wAacJ",
        "outputId": "4e29c2d4-0e0d-4861-9535-d9b739964329"
      },
      "execution_count": 13,
      "outputs": [
        {
          "output_type": "stream",
          "name": "stdout",
          "text": [
            "Model: \"sequential\"\n",
            "_________________________________________________________________\n",
            " Layer (type)                Output Shape              Param #   \n",
            "=================================================================\n",
            " dense (Dense)               (None, 256)               11776     \n",
            "                                                                 \n",
            " dropout (Dropout)           (None, 256)               0         \n",
            "                                                                 \n",
            " dense_1 (Dense)             (None, 256)               65792     \n",
            "                                                                 \n",
            " dropout_1 (Dropout)         (None, 256)               0         \n",
            "                                                                 \n",
            " dense_2 (Dense)             (None, 128)               32896     \n",
            "                                                                 \n",
            " dropout_2 (Dropout)         (None, 128)               0         \n",
            "                                                                 \n",
            " dense_3 (Dense)             (None, 128)               16512     \n",
            "                                                                 \n",
            " dropout_3 (Dropout)         (None, 128)               0         \n",
            "                                                                 \n",
            " dense_4 (Dense)             (None, 1)                 129       \n",
            "                                                                 \n",
            "=================================================================\n",
            "Total params: 127105 (496.50 KB)\n",
            "Trainable params: 127105 (496.50 KB)\n",
            "Non-trainable params: 0 (0.00 Byte)\n",
            "_________________________________________________________________\n"
          ]
        }
      ]
    },
    {
      "cell_type": "code",
      "source": [
        "model.save('model.h5')"
      ],
      "metadata": {
        "id": "wA2hJAw-TdE2",
        "colab": {
          "base_uri": "https://localhost:8080/"
        },
        "outputId": "d5e93ba9-ea71-48da-b625-81beec109ccc"
      },
      "execution_count": 14,
      "outputs": [
        {
          "output_type": "stream",
          "name": "stderr",
          "text": [
            "/usr/local/lib/python3.10/dist-packages/keras/src/engine/training.py:3103: UserWarning: You are saving your model as an HDF5 file via `model.save()`. This file format is considered legacy. We recommend using instead the native Keras format, e.g. `model.save('my_model.keras')`.\n",
            "  saving_api.save_model(\n"
          ]
        }
      ]
    },
    {
      "cell_type": "code",
      "source": [
        "model.save('saved_model/')"
      ],
      "metadata": {
        "id": "Mw7QrlbkMtTh"
      },
      "execution_count": 15,
      "outputs": []
    }
  ]
}